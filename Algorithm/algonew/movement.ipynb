{
 "cells": [
  {
   "cell_type": "code",
   "execution_count": 2,
   "metadata": {},
   "outputs": [],
   "source": [
    "from movement import move_forward, turn\n",
    "\n",
    "import matplotlib.pyplot as plt\n",
    "from math import pi, sin, cos, sqrt, atan2"
   ]
  },
  {
   "cell_type": "code",
   "execution_count": 3,
   "metadata": {},
   "outputs": [
    {
     "data": {
      "text/plain": [
       "[<matplotlib.lines.Line2D at 0x25e7f68af10>]"
      ]
     },
     "execution_count": 3,
     "metadata": {},
     "output_type": "execute_result"
    },
    {
     "data": {
      "image/png": "[encoded data removed]",
      "text/plain": [
       "<Figure size 640x480 with 1 Axes>"
      ]
     },
     "metadata": {},
     "output_type": "display_data"
    }
   ],
   "source": [
    "\n",
    "\n",
    "x = 0\n",
    "y = 0\n",
    "dir = 0\n",
    "\n",
    "n_x, n_y, n_dir = move_forward(x, y, dir, 5)\n",
    "\n",
    "plt.plot([x, n_x], [y, n_y], 'ro-')\n",
    "\n",
    "x = 1\n",
    "y = 1\n",
    "dir = -50*pi/180\n",
    "nx, ny, ndir = move_forward(x, y, dir, 5)\n",
    "plt.plot([x, nx], [y, ny], 'bo-')\n",
    "\n"
   ]
  },
  {
   "cell_type": "code",
   "execution_count": 4,
   "metadata": {},
   "outputs": [],
   "source": [
    "\n",
    "# def turn(x, y, direction, is_forward: bool, is_left: bool, turning_radius, turn_angle):\n",
    "#     \"\"\"\n",
    "#     x, y: current position\n",
    "#     direction: current direction in radians\n",
    "#     forward: True if the robot is moving forward, False if the robot is moving backward\n",
    "#     left: True if the robot is turning left, False if the robot is turning right\n",
    "#     turning_radius: turning radius of the robot\n",
    "#     turn_angle: angle to turn in radians\n",
    "\n",
    "#     The robot turns in an arc \n",
    "#     \"\"\"\n",
    "\n",
    "#     if is_left:\n",
    "#         turn_angle = -turn_angle\n",
    "#     # if turing left, pivot should be 90 degrees to the left of the robot\n",
    "#     # if turning right, pivot should be 90 degrees to the right of the robot\n",
    "#     rotate = 90 if is_left else -90\n",
    "#     pivot = [x + turning_radius * cos(direction + rotate*pi/180), y + turning_radius * sin(direction + rotate*pi/180)]\n",
    "\n",
    "#     if is_forward:\n",
    "#         new_direction = direction - turn_angle\n",
    "#     else:\n",
    "#         new_direction = direction + turn_angle\n",
    "\n",
    "#     print(new_direction)\n",
    "\n",
    "#     new_x = pivot[0] - turning_radius * cos(new_direction + rotate*pi/180)\n",
    "#     new_y = pivot[1] - turning_radius * sin(new_direction + rotate*pi/180)\n",
    "#     return new_x, new_y, new_direction, pivot\n",
    "\n",
    "# def move_forward(curr_x, curr_y, curr_dir, distance):\n",
    "#     \"\"\"\n",
    "#     curr_x, y: current position\n",
    "#     direction: current direction in radians\n",
    "#     distance: distance to move forward\n",
    "#     \"\"\"\n",
    "#     curr_x += distance * cos(curr_dir)\n",
    "#     curr_y += distance * sin(curr_dir)\n",
    "#     return curr_x, curr_y, curr_dir\n"
   ]
  },
  {
   "cell_type": "code",
   "execution_count": 5,
   "metadata": {},
   "outputs": [
    {
     "name": "stdout",
     "output_type": "stream",
     "text": [
      "2.0943951023931953\n"
     ]
    },
    {
     "ename": "TypeError",
     "evalue": "move_forward() takes 4 positional arguments but 5 were given",
     "output_type": "error",
     "traceback": [
      "\u001b[1;31m---------------------------------------------------------------------------\u001b[0m",
      "\u001b[1;31mTypeError\u001b[0m                                 Traceback (most recent call last)",
      "Cell \u001b[1;32mIn[5], line 4\u001b[0m\n\u001b[0;32m      2\u001b[0m pos1b \u001b[38;5;241m=\u001b[39m move_forward(\u001b[38;5;241m*\u001b[39mpos1a, \u001b[38;5;241m1\u001b[39m)\n\u001b[0;32m      3\u001b[0m pos1c \u001b[38;5;241m=\u001b[39m turn(\u001b[38;5;241m*\u001b[39mpos1b, \u001b[38;5;28;01mTrue\u001b[39;00m, \u001b[38;5;28;01mTrue\u001b[39;00m, \u001b[38;5;241m1\u001b[39m, \u001b[38;5;241m90\u001b[39m\u001b[38;5;241m*\u001b[39mpi\u001b[38;5;241m/\u001b[39m\u001b[38;5;241m180\u001b[39m)\n\u001b[1;32m----> 4\u001b[0m pos1d \u001b[38;5;241m=\u001b[39m move_forward(\u001b[38;5;241m*\u001b[39mpos1c, \u001b[38;5;241m1\u001b[39m)\n\u001b[0;32m      6\u001b[0m plt\u001b[38;5;241m.\u001b[39mplot([pos1a[\u001b[38;5;241m0\u001b[39m], pos1b[\u001b[38;5;241m0\u001b[39m], pos1c[\u001b[38;5;241m0\u001b[39m], pos1d[\u001b[38;5;241m0\u001b[39m]], [pos1a[\u001b[38;5;241m1\u001b[39m], pos1b[\u001b[38;5;241m1\u001b[39m], pos1c[\u001b[38;5;241m1\u001b[39m], pos1d[\u001b[38;5;241m1\u001b[39m]], \u001b[38;5;124m'\u001b[39m\u001b[38;5;124mbo-\u001b[39m\u001b[38;5;124m'\u001b[39m)\n\u001b[0;32m      8\u001b[0m pos2a \u001b[38;5;241m=\u001b[39m [\u001b[38;5;241m0\u001b[39m, \u001b[38;5;241m0\u001b[39m, \u001b[38;5;241m120\u001b[39m\u001b[38;5;241m*\u001b[39mpi\u001b[38;5;241m/\u001b[39m\u001b[38;5;241m180\u001b[39m]\n",
      "\u001b[1;31mTypeError\u001b[0m: move_forward() takes 4 positional arguments but 5 were given"
     ]
    }
   ],
   "source": [
    "\n",
    "pos1a = [0, 0, 30*pi/180]\n",
    "pos1b = move_forward(*pos1a, 1)\n",
    "pos1c = turn(*pos1b, True, True, 1, 90*pi/180)\n",
    "pos1d = move_forward(*pos1c, 1)\n",
    "\n",
    "plt.plot([pos1a[0], pos1b[0], pos1c[0], pos1d[0]], [pos1a[1], pos1b[1], pos1c[1], pos1d[1]], 'bo-')\n",
    "\n",
    "pos2a = [0, 0, 120*pi/180]\n",
    "pos2b = move_forward(*pos2a, 1)\n",
    "pos2c = turn(*pos2b, True, True, 1, 180*pi/180)\n",
    "pos2d = move_forward(*pos2c, 1)\n",
    "plt.plot([pos2a[0], pos2b[0], pos2c[0], pos2d[0]], [pos2a[1], pos2b[1], pos2c[1], pos2d[1]], 'go-')\n",
    "\n",
    "pos3a = [0, 0, 210*pi/180]\n",
    "pos3b = move_forward(*pos3a, 1)\n",
    "pos3c = turn(*pos3b, True, False, 1, 90*pi/180)\n",
    "pos3d = move_forward(*pos3c, 1)\n",
    "plt.plot([pos3a[0], pos3b[0], pos3c[0], pos3d[0]], [pos3a[1], pos3b[1], pos3c[1], pos3d[1]], 'yo-')\n",
    "\n",
    "plt.xlim(-5, 5)\n",
    "plt.ylim(-5, 5)\n",
    "# make plt grid\n",
    "plt.grid(True)\n",
    "plt.gca().set_aspect('equal', adjustable='box')\n",
    "\n",
    "\n"
   ]
  },
  {
   "cell_type": "code",
   "execution_count": null,
   "metadata": {},
   "outputs": [],
   "source": []
  }
 ],
 "metadata": {
  "kernelspec": {
   "display_name": "base",
   "language": "python",
   "name": "python3"
  },
  "language_info": {
   "codemirror_mode": {
    "name": "ipython",
    "version": 3
   },
   "file_extension": ".py",
   "mimetype": "text/x-python",
   "name": "python",
   "nbconvert_exporter": "python",
   "pygments_lexer": "ipython3",
   "version": "3.11.5"
  }
 },
 "nbformat": 4,
 "nbformat_minor": 2
}
